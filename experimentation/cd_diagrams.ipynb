{
 "cells": [
  {
   "cell_type": "markdown",
   "metadata": {},
   "source": [
    "# Visualization of the Nemenyi and Bonferroni-Dunn Diagrams"
   ]
  },
  {
   "cell_type": "code",
   "execution_count": 1,
   "metadata": {},
   "outputs": [],
   "source": [
    "from Orange.evaluation import compute_CD, graph_ranks\n",
    "import matplotlib.pyplot as plt"
   ]
  },
  {
   "cell_type": "code",
   "execution_count": 2,
   "metadata": {},
   "outputs": [
    {
     "data": {
      "image/png": "[encoded data removed]",
      "text/plain": [
       "<Figure size 432x111.6 with 1 Axes>"
      ]
     },
     "metadata": {},
     "output_type": "display_data"
    }
   ],
   "source": [
    "names = [\"first\", \"third\", \"second\", \"fourth\" ]\n",
    "\n",
    "avranks =  [1.9, 3.2, 2.8, 3.3 ]\n",
    "\n",
    "cd = compute_CD(avranks, 30) #tested on 30 datasets\n",
    "\n",
    "graph_ranks(avranks, names, cd=cd, width=6, textspace=1.5)\n",
    "\n",
    "plt.show()"
   ]
  }
 ],
 "metadata": {
  "interpreter": {
   "hash": "ddbf58beb0ceb3f28487c8a8d7192b043471fe4d33849d20361912ddb46861bb"
  },
  "kernelspec": {
   "display_name": "Python 3.9.12 ('IS-SSL')",
   "language": "python",
   "name": "python3"
  },
  "language_info": {
   "codemirror_mode": {
    "name": "ipython",
    "version": 3
   },
   "file_extension": ".py",
   "mimetype": "text/x-python",
   "name": "python",
   "nbconvert_exporter": "python",
   "pygments_lexer": "ipython3",
   "version": "3.9.12"
  },
  "orig_nbformat": 4
 },
 "nbformat": 4,
 "nbformat_minor": 2
}
