{
 "cells": [
  {
   "cell_type": "markdown",
   "metadata": {
    "collapsed": true,
    "pycharm": {
     "name": "#%% md\n"
    }
   },
   "source": [
    "# «Friedman Test» from Demsar (2006)\n",
    "Adapted from cgosorio's work."
   ]
  },
  {
   "cell_type": "code",
   "execution_count": 209,
   "outputs": [],
   "source": [
    "import os.path\n",
    "import scipy.stats\n",
    "from itertools import product\n",
    "import pandas as pd\n",
    "import numpy as np"
   ],
   "metadata": {
    "collapsed": false,
    "pycharm": {
     "name": "#%%\n"
    }
   }
  },
  {
   "cell_type": "code",
   "execution_count": 210,
   "outputs": [],
   "source": [
    "metric = 'f1-score'\n",
    "results = os.path.join('ranks', 'results.csv')"
   ],
   "metadata": {
    "collapsed": false,
    "pycharm": {
     "name": "#%%\n"
    }
   }
  },
  {
   "cell_type": "code",
   "execution_count": 211,
   "outputs": [],
   "source": [
    "results_df = pd.read_csv(results)"
   ],
   "metadata": {
    "collapsed": false,
    "pycharm": {
     "name": "#%%\n"
    }
   }
  },
  {
   "cell_type": "code",
   "execution_count": 212,
   "outputs": [
    {
     "name": "stdout",
     "output_type": "stream",
     "text": [
      "Base estimators used: ['KNeighborsClassifier' 'DecisionTreeClassifier' 'GaussianNB']\n",
      "Filters used: ['ENN' 'LSSm' 'ENANE' 'base']\n",
      "Percents labeled used: [0.05 0.1  0.15 0.2  0.25 0.3  0.35]\n",
      "# Datasets used: 18\n"
     ]
    }
   ],
   "source": [
    "filters = results_df['filter'].unique()\n",
    "base_estimators = results_df['base'].unique()\n",
    "percents_labeled = results_df['percent labeled'].unique()\n",
    "datasets = results_df['dataset'].unique()\n",
    "percents_labeled.sort()\n",
    "\n",
    "print(f\"Base estimators used: {base_estimators}\")\n",
    "print(f\"Filters used: {filters}\")\n",
    "print(f\"Percents labeled used: {percents_labeled}\")\n",
    "print(f\"# Datasets used: {len(datasets)}\")\n"
   ],
   "metadata": {
    "collapsed": false,
    "pycharm": {
     "name": "#%%\n"
    }
   }
  },
  {
   "cell_type": "code",
   "execution_count": 213,
   "outputs": [
    {
     "name": "stdout",
     "output_type": "stream",
     "text": [
      "Pairs of base estimator with filters:\n",
      " [['KNeighborsClassifier' 'ENN']\n",
      " ['KNeighborsClassifier' 'LSSm']\n",
      " ['KNeighborsClassifier' 'ENANE']\n",
      " ['KNeighborsClassifier' 'base']\n",
      " ['DecisionTreeClassifier' 'ENN']\n",
      " ['DecisionTreeClassifier' 'LSSm']\n",
      " ['DecisionTreeClassifier' 'ENANE']\n",
      " ['DecisionTreeClassifier' 'base']\n",
      " ['GaussianNB' 'ENN']\n",
      " ['GaussianNB' 'LSSm']\n",
      " ['GaussianNB' 'ENANE']\n",
      " ['GaussianNB' 'base']]\n"
     ]
    }
   ],
   "source": [
    "grouped_df = results_df.groupby(['dataset', 'percent labeled',\n",
    "                                              'base', 'filter']).mean()\n",
    "\n",
    "grouped_df = grouped_df[metric].to_frame()\n",
    "grouped_df.reset_index(inplace=True)\n",
    "\n",
    "bases_filters = np.array(list(product(base_estimators, filters)))\n",
    "print(\"Pairs of base estimator with filters:\\n\", bases_filters)"
   ],
   "metadata": {
    "collapsed": false,
    "pycharm": {
     "name": "#%%\n"
    }
   }
  },
  {
   "cell_type": "code",
   "execution_count": 214,
   "outputs": [
    {
     "name": "stdout",
     "output_type": "stream",
     "text": [
      "                    dataset  percent labeled                    base filter  \\\n",
      "0          BreastTissue.csv             0.05  DecisionTreeClassifier  ENANE   \n",
      "1          BreastTissue.csv             0.05  DecisionTreeClassifier    ENN   \n",
      "2          BreastTissue.csv             0.05  DecisionTreeClassifier   LSSm   \n",
      "3          BreastTissue.csv             0.05  DecisionTreeClassifier   base   \n",
      "4          BreastTissue.csv             0.05              GaussianNB  ENANE   \n",
      "...                     ...              ...                     ...    ...   \n",
      "1507  wifi-localization.csv             0.35              GaussianNB   base   \n",
      "1508  wifi-localization.csv             0.35    KNeighborsClassifier  ENANE   \n",
      "1509  wifi-localization.csv             0.35    KNeighborsClassifier    ENN   \n",
      "1510  wifi-localization.csv             0.35    KNeighborsClassifier   LSSm   \n",
      "1511  wifi-localization.csv             0.35    KNeighborsClassifier   base   \n",
      "\n",
      "      f1-score  \n",
      "0     0.183905  \n",
      "1     0.196561  \n",
      "2     0.197783  \n",
      "3     0.253685  \n",
      "4     0.098382  \n",
      "...        ...  \n",
      "1507  0.029355  \n",
      "1508  0.028805  \n",
      "1509  0.030231  \n",
      "1510  0.028359  \n",
      "1511  0.031792  \n",
      "\n",
      "[1512 rows x 5 columns]\n"
     ]
    }
   ],
   "source": [
    "print(grouped_df)"
   ],
   "metadata": {
    "collapsed": false,
    "pycharm": {
     "name": "#%%\n"
    }
   }
  },
  {
   "cell_type": "code",
   "execution_count": 215,
   "outputs": [],
   "source": [
    "def base_filter_values():\n",
    "    values = pd.DataFrame()\n",
    "    for base_filter in bases_filters:\n",
    "        base_, filter_ = base_filter\n",
    "        working_df = grouped_df.loc[\n",
    "            (grouped_df['percent labeled'] == percent) &\n",
    "            (grouped_df['base'] == base_) &\n",
    "            (grouped_df['filter'] == filter_)\n",
    "            ]\n",
    "        value = working_df[metric].to_frame()\n",
    "        value.reset_index(inplace=True, drop=True)\n",
    "        value.columns = [':'.join(base_filter)]\n",
    "        values = pd.concat((value, values), axis=1)\n",
    "\n",
    "    return values\n",
    "\n",
    "\n",
    "def split_onto_base_estimators():\n",
    "    for base_ in base_estimators:\n",
    "        base_dfs.append(curr_vals.filter(regex=base_))"
   ],
   "metadata": {
    "collapsed": false,
    "pycharm": {
     "name": "#%%\n"
    }
   }
  },
  {
   "cell_type": "code",
   "execution_count": 216,
   "outputs": [
    {
     "name": "stdout",
     "output_type": "stream",
     "text": [
      "\n",
      "\n",
      "------------------------------------\n",
      "\n",
      "> Percent labeled:  0.05\n",
      "\n",
      "KNeighborsClassifier:base 2.47\n",
      "KNeighborsClassifier:ENANE 2.25\n",
      "KNeighborsClassifier:LSSm 2.67\n",
      "KNeighborsClassifier:ENN 2.61\n",
      "\n",
      "DecisionTreeClassifier:base 2.39\n",
      "DecisionTreeClassifier:ENANE 2.94\n",
      "DecisionTreeClassifier:LSSm 2.00\n",
      "DecisionTreeClassifier:ENN 2.67\n",
      "\n",
      "GaussianNB:base 2.22\n",
      "GaussianNB:ENANE 2.14\n",
      "GaussianNB:LSSm 2.39\n",
      "GaussianNB:ENN 3.25\n",
      "\n",
      "\n",
      "------------------------------------\n",
      "\n",
      "> Percent labeled:  0.1\n",
      "\n",
      "KNeighborsClassifier:base 2.78\n",
      "KNeighborsClassifier:ENANE 2.78\n",
      "KNeighborsClassifier:LSSm 2.22\n",
      "KNeighborsClassifier:ENN 2.22\n",
      "\n",
      "DecisionTreeClassifier:base 2.72\n",
      "DecisionTreeClassifier:ENANE 2.50\n",
      "DecisionTreeClassifier:LSSm 2.44\n",
      "DecisionTreeClassifier:ENN 2.33\n",
      "\n",
      "GaussianNB:base 3.17\n",
      "GaussianNB:ENANE 2.00\n",
      "GaussianNB:LSSm 2.17\n",
      "GaussianNB:ENN 2.67\n",
      "\n",
      "\n",
      "------------------------------------\n",
      "\n",
      "> Percent labeled:  0.15\n",
      "\n",
      "KNeighborsClassifier:base 2.50\n",
      "KNeighborsClassifier:ENANE 2.44\n",
      "KNeighborsClassifier:LSSm 2.78\n",
      "KNeighborsClassifier:ENN 2.28\n",
      "\n",
      "DecisionTreeClassifier:base 2.67\n",
      "DecisionTreeClassifier:ENANE 2.44\n",
      "DecisionTreeClassifier:LSSm 2.22\n",
      "DecisionTreeClassifier:ENN 2.67\n",
      "\n",
      "GaussianNB:base 2.39\n",
      "GaussianNB:ENANE 2.61\n",
      "GaussianNB:LSSm 2.44\n",
      "GaussianNB:ENN 2.56\n",
      "\n",
      "\n",
      "------------------------------------\n",
      "\n",
      "> Percent labeled:  0.2\n",
      "\n",
      "KNeighborsClassifier:base 2.33\n",
      "KNeighborsClassifier:ENANE 2.61\n",
      "KNeighborsClassifier:LSSm 2.83\n",
      "KNeighborsClassifier:ENN 2.22\n",
      "\n",
      "DecisionTreeClassifier:base 2.44\n",
      "DecisionTreeClassifier:ENANE 1.89\n",
      "DecisionTreeClassifier:LSSm 2.67\n",
      "DecisionTreeClassifier:ENN 3.00\n",
      "\n",
      "GaussianNB:base 2.28\n",
      "GaussianNB:ENANE 2.56\n",
      "GaussianNB:LSSm 2.67\n",
      "GaussianNB:ENN 2.50\n",
      "\n",
      "\n",
      "------------------------------------\n",
      "\n",
      "> Percent labeled:  0.25\n",
      "\n",
      "KNeighborsClassifier:base 2.44\n",
      "KNeighborsClassifier:ENANE 2.28\n",
      "KNeighborsClassifier:LSSm 2.61\n",
      "KNeighborsClassifier:ENN 2.67\n",
      "\n",
      "DecisionTreeClassifier:base 2.61\n",
      "DecisionTreeClassifier:ENANE 2.39\n",
      "DecisionTreeClassifier:LSSm 2.11\n",
      "DecisionTreeClassifier:ENN 2.89\n",
      "\n",
      "GaussianNB:base 2.44\n",
      "GaussianNB:ENANE 2.72\n",
      "GaussianNB:LSSm 2.11\n",
      "GaussianNB:ENN 2.72\n",
      "\n",
      "\n",
      "------------------------------------\n",
      "\n",
      "> Percent labeled:  0.3\n",
      "\n",
      "KNeighborsClassifier:base 2.28\n",
      "KNeighborsClassifier:ENANE 2.78\n",
      "KNeighborsClassifier:LSSm 2.50\n",
      "KNeighborsClassifier:ENN 2.44\n",
      "\n",
      "DecisionTreeClassifier:base 2.11\n",
      "DecisionTreeClassifier:ENANE 2.61\n",
      "DecisionTreeClassifier:LSSm 2.89\n",
      "DecisionTreeClassifier:ENN 2.39\n",
      "\n",
      "GaussianNB:base 2.78\n",
      "GaussianNB:ENANE 2.11\n",
      "GaussianNB:LSSm 2.89\n",
      "GaussianNB:ENN 2.22\n",
      "\n",
      "\n",
      "------------------------------------\n",
      "\n",
      "> Percent labeled:  0.35\n",
      "\n",
      "KNeighborsClassifier:base 2.39\n",
      "KNeighborsClassifier:ENANE 2.36\n",
      "KNeighborsClassifier:LSSm 2.69\n",
      "KNeighborsClassifier:ENN 2.56\n",
      "\n",
      "DecisionTreeClassifier:base 2.28\n",
      "DecisionTreeClassifier:ENANE 2.72\n",
      "DecisionTreeClassifier:LSSm 2.56\n",
      "DecisionTreeClassifier:ENN 2.44\n",
      "\n",
      "GaussianNB:base 2.28\n",
      "GaussianNB:ENANE 2.50\n",
      "GaussianNB:LSSm 3.11\n",
      "GaussianNB:ENN 2.11\n"
     ]
    }
   ],
   "source": [
    "for percent in percents_labeled:\n",
    "    curr_vals = base_filter_values()\n",
    "\n",
    "    base_dfs = list()\n",
    "    split_onto_base_estimators()\n",
    "    print('\\n\\n------------------------------------\\n\\n> Percent labeled: ',\n",
    "          percent)\n",
    "    for base, df in zip(base_estimators, base_dfs):\n",
    "        metric_vals = df.to_numpy()\n",
    "\n",
    "        N, k = len(datasets), len(df.columns)\n",
    "        assert N==metric_vals.shape[0] and k==metric_vals.shape[1]\n",
    "\n",
    "        rankings = scipy.stats.rankdata(-metric_vals, axis=1)\n",
    "\n",
    "        Rj = average_ranks = np.mean(rankings, axis=0)\n",
    "\n",
    "        average_rank_tuples = sorted(zip(df.columns, average_ranks), key=lambda\n",
    "            a: a[1])\n",
    "\n",
    "        average_rank_for = {method: value for method,\n",
    "                                              value in zip(df.columns,\n",
    "                                                           average_ranks)}\n",
    "        print()\n",
    "        for k, v in average_rank_for.items():\n",
    "            print(k, f'{v:.2f}')\n"
   ],
   "metadata": {
    "collapsed": false,
    "pycharm": {
     "name": "#%%\n"
    }
   }
  }
 ],
 "metadata": {
  "kernelspec": {
   "display_name": "Python 3",
   "language": "python",
   "name": "python3"
  },
  "language_info": {
   "codemirror_mode": {
    "name": "ipython",
    "version": 2
   },
   "file_extension": ".py",
   "mimetype": "text/x-python",
   "name": "python",
   "nbconvert_exporter": "python",
   "pygments_lexer": "ipython2",
   "version": "2.7.6"
  }
 },
 "nbformat": 4,
 "nbformat_minor": 0
}